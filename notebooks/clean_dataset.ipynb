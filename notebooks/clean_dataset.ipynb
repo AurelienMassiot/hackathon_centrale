{
 "cells": [
  {
   "cell_type": "code",
   "execution_count": 1,
   "id": "92f2b6a0",
   "metadata": {},
   "outputs": [],
   "source": [
    "import pandas as pd"
   ]
  },
  {
   "cell_type": "code",
   "execution_count": 3,
   "id": "32e76337",
   "metadata": {},
   "outputs": [
    {
     "name": "stderr",
     "output_type": "stream",
     "text": [
      "/var/folders/vt/q7w1x8zj1vs89gh48cp6vk2r0000gn/T/ipykernel_67274/2718168924.py:1: DtypeWarning: Columns (5,9) have mixed types. Specify dtype option on import or set low_memory=False.\n",
      "  ufo_df = pd.read_csv('../data/raw/ufo-scrubbed-geocoded-time-standardized.csv')\n"
     ]
    }
   ],
   "source": [
    "ufo_df = pd.read_csv('../data/raw/ufo-scrubbed-geocoded-time-standardized.csv')\n",
    "ufo_df.columns = ['event_date', 'location', 'state', 'country', 'shape', 'size', 'duration', 'comment',\n",
    "                             'declaration_date', 'latitude', 'longitude']"
   ]
  },
  {
   "cell_type": "code",
   "execution_count": 4,
   "id": "076819ca",
   "metadata": {},
   "outputs": [
    {
     "data": {
      "text/html": [
       "<div>\n",
       "<style scoped>\n",
       "    .dataframe tbody tr th:only-of-type {\n",
       "        vertical-align: middle;\n",
       "    }\n",
       "\n",
       "    .dataframe tbody tr th {\n",
       "        vertical-align: top;\n",
       "    }\n",
       "\n",
       "    .dataframe thead th {\n",
       "        text-align: right;\n",
       "    }\n",
       "</style>\n",
       "<table border=\"1\" class=\"dataframe\">\n",
       "  <thead>\n",
       "    <tr style=\"text-align: right;\">\n",
       "      <th></th>\n",
       "      <th>event_date</th>\n",
       "      <th>location</th>\n",
       "      <th>state</th>\n",
       "      <th>country</th>\n",
       "      <th>shape</th>\n",
       "      <th>size</th>\n",
       "      <th>duration</th>\n",
       "      <th>comment</th>\n",
       "      <th>declaration_date</th>\n",
       "      <th>latitude</th>\n",
       "      <th>longitude</th>\n",
       "    </tr>\n",
       "  </thead>\n",
       "  <tbody>\n",
       "    <tr>\n",
       "      <th>0</th>\n",
       "      <td>10/10/1949 21:00</td>\n",
       "      <td>lackland afb</td>\n",
       "      <td>tx</td>\n",
       "      <td>NaN</td>\n",
       "      <td>light</td>\n",
       "      <td>7200</td>\n",
       "      <td>1-2 hrs</td>\n",
       "      <td>1949 Lackland AFB&amp;#44 TX.  Lights racing acros...</td>\n",
       "      <td>12/16/2005</td>\n",
       "      <td>29.38421</td>\n",
       "      <td>-98.581082</td>\n",
       "    </tr>\n",
       "    <tr>\n",
       "      <th>1</th>\n",
       "      <td>10/10/1955 17:00</td>\n",
       "      <td>chester (uk/england)</td>\n",
       "      <td>NaN</td>\n",
       "      <td>gb</td>\n",
       "      <td>circle</td>\n",
       "      <td>20</td>\n",
       "      <td>20 seconds</td>\n",
       "      <td>Green/Orange circular disc over Chester&amp;#44 En...</td>\n",
       "      <td>1/21/2008</td>\n",
       "      <td>53.2</td>\n",
       "      <td>-2.916667</td>\n",
       "    </tr>\n",
       "    <tr>\n",
       "      <th>2</th>\n",
       "      <td>10/10/1956 21:00</td>\n",
       "      <td>edna</td>\n",
       "      <td>tx</td>\n",
       "      <td>us</td>\n",
       "      <td>circle</td>\n",
       "      <td>20</td>\n",
       "      <td>1/2 hour</td>\n",
       "      <td>My older brother and twin sister were leaving ...</td>\n",
       "      <td>1/17/2004</td>\n",
       "      <td>28.9783333</td>\n",
       "      <td>-96.645833</td>\n",
       "    </tr>\n",
       "    <tr>\n",
       "      <th>3</th>\n",
       "      <td>10/10/1960 20:00</td>\n",
       "      <td>kaneohe</td>\n",
       "      <td>hi</td>\n",
       "      <td>us</td>\n",
       "      <td>light</td>\n",
       "      <td>900</td>\n",
       "      <td>15 minutes</td>\n",
       "      <td>AS a Marine 1st Lt. flying an FJ4B fighter/att...</td>\n",
       "      <td>1/22/2004</td>\n",
       "      <td>21.4180556</td>\n",
       "      <td>-157.803611</td>\n",
       "    </tr>\n",
       "    <tr>\n",
       "      <th>4</th>\n",
       "      <td>10/10/1961 19:00</td>\n",
       "      <td>bristol</td>\n",
       "      <td>tn</td>\n",
       "      <td>us</td>\n",
       "      <td>sphere</td>\n",
       "      <td>300</td>\n",
       "      <td>5 minutes</td>\n",
       "      <td>My father is now 89 my brother 52 the girl wit...</td>\n",
       "      <td>4/27/2007</td>\n",
       "      <td>36.5950000</td>\n",
       "      <td>-82.188889</td>\n",
       "    </tr>\n",
       "  </tbody>\n",
       "</table>\n",
       "</div>"
      ],
      "text/plain": [
       "         event_date              location state country   shape  size  \\\n",
       "0  10/10/1949 21:00          lackland afb    tx     NaN   light  7200   \n",
       "1  10/10/1955 17:00  chester (uk/england)   NaN      gb  circle    20   \n",
       "2  10/10/1956 21:00                  edna    tx      us  circle    20   \n",
       "3  10/10/1960 20:00               kaneohe    hi      us   light   900   \n",
       "4  10/10/1961 19:00               bristol    tn      us  sphere   300   \n",
       "\n",
       "     duration                                            comment  \\\n",
       "0     1-2 hrs  1949 Lackland AFB&#44 TX.  Lights racing acros...   \n",
       "1  20 seconds  Green/Orange circular disc over Chester&#44 En...   \n",
       "2    1/2 hour  My older brother and twin sister were leaving ...   \n",
       "3  15 minutes  AS a Marine 1st Lt. flying an FJ4B fighter/att...   \n",
       "4   5 minutes  My father is now 89 my brother 52 the girl wit...   \n",
       "\n",
       "  declaration_date    latitude   longitude  \n",
       "0       12/16/2005    29.38421  -98.581082  \n",
       "1        1/21/2008        53.2   -2.916667  \n",
       "2        1/17/2004  28.9783333  -96.645833  \n",
       "3        1/22/2004  21.4180556 -157.803611  \n",
       "4        4/27/2007  36.5950000  -82.188889  "
      ]
     },
     "execution_count": 4,
     "metadata": {},
     "output_type": "execute_result"
    }
   ],
   "source": [
    "ufo_df.head()"
   ]
  },
  {
   "cell_type": "code",
   "execution_count": 5,
   "id": "ebf57ccf",
   "metadata": {},
   "outputs": [
    {
     "data": {
      "text/plain": [
       "(80331, 11)"
      ]
     },
     "execution_count": 5,
     "metadata": {},
     "output_type": "execute_result"
    }
   ],
   "source": [
    "ufo_df.shape"
   ]
  },
  {
   "cell_type": "code",
   "execution_count": 6,
   "id": "45bc609f",
   "metadata": {},
   "outputs": [
    {
     "name": "stdout",
     "output_type": "stream",
     "text": [
      "<class 'pandas.core.frame.DataFrame'>\n",
      "RangeIndex: 80331 entries, 0 to 80330\n",
      "Data columns (total 11 columns):\n",
      " #   Column            Non-Null Count  Dtype  \n",
      "---  ------            --------------  -----  \n",
      " 0   event_date        80331 non-null  object \n",
      " 1   location          80331 non-null  object \n",
      " 2   state             74534 non-null  object \n",
      " 3   country           70661 non-null  object \n",
      " 4   shape             78399 non-null  object \n",
      " 5   size              80331 non-null  object \n",
      " 6   duration          80331 non-null  object \n",
      " 7   comment           80316 non-null  object \n",
      " 8   declaration_date  80331 non-null  object \n",
      " 9   latitude          80331 non-null  object \n",
      " 10  longitude         80331 non-null  float64\n",
      "dtypes: float64(1), object(10)\n",
      "memory usage: 6.7+ MB\n"
     ]
    }
   ],
   "source": [
    "ufo_df.info()"
   ]
  },
  {
   "cell_type": "markdown",
   "id": "aaa5a1f2",
   "metadata": {},
   "source": [
    "## Parsing des colonnes"
   ]
  },
  {
   "cell_type": "code",
   "execution_count": 7,
   "id": "ce2ee194",
   "metadata": {},
   "outputs": [],
   "source": [
    "ufo_df = ufo_df.dropna()"
   ]
  },
  {
   "cell_type": "markdown",
   "id": "9eb40899",
   "metadata": {},
   "source": [
    "### Dates"
   ]
  },
  {
   "cell_type": "code",
   "execution_count": 8,
   "id": "5fd58d6f",
   "metadata": {},
   "outputs": [],
   "source": [
    "ufo_df['event_date'] = ufo_df['event_date'].replace('24:00', '00:00', regex=True)\n",
    "ufo_df['event_date'] = pd.to_datetime(ufo_df['event_date'])"
   ]
  },
  {
   "cell_type": "code",
   "execution_count": 9,
   "id": "3a06a2cb",
   "metadata": {},
   "outputs": [],
   "source": [
    "ufo_df['declaration_date'] = pd.to_datetime(ufo_df['declaration_date'])"
   ]
  },
  {
   "cell_type": "markdown",
   "id": "78900c4d",
   "metadata": {},
   "source": [
    "### Latitude"
   ]
  },
  {
   "cell_type": "code",
   "execution_count": 10,
   "id": "c20a6a22",
   "metadata": {},
   "outputs": [],
   "source": [
    "ufo_df['latitude'] = ufo_df['latitude'].replace('33q.200088', '33')\n",
    "ufo_df['latitude'] = ufo_df['latitude'].astype(float)"
   ]
  },
  {
   "cell_type": "markdown",
   "id": "d70fe5e4",
   "metadata": {},
   "source": [
    "### Country"
   ]
  },
  {
   "cell_type": "code",
   "execution_count": 11,
   "id": "d30e86a4",
   "metadata": {
    "scrolled": true
   },
   "outputs": [
    {
     "data": {
      "text/html": [
       "<div>\n",
       "<style scoped>\n",
       "    .dataframe tbody tr th:only-of-type {\n",
       "        vertical-align: middle;\n",
       "    }\n",
       "\n",
       "    .dataframe tbody tr th {\n",
       "        vertical-align: top;\n",
       "    }\n",
       "\n",
       "    .dataframe thead th {\n",
       "        text-align: right;\n",
       "    }\n",
       "</style>\n",
       "<table border=\"1\" class=\"dataframe\">\n",
       "  <thead>\n",
       "    <tr style=\"text-align: right;\">\n",
       "      <th></th>\n",
       "      <th>event_date</th>\n",
       "      <th>location</th>\n",
       "      <th>state</th>\n",
       "      <th>country</th>\n",
       "      <th>shape</th>\n",
       "      <th>size</th>\n",
       "      <th>duration</th>\n",
       "      <th>comment</th>\n",
       "      <th>declaration_date</th>\n",
       "      <th>latitude</th>\n",
       "      <th>longitude</th>\n",
       "    </tr>\n",
       "  </thead>\n",
       "  <tbody>\n",
       "    <tr>\n",
       "      <th>2</th>\n",
       "      <td>1956-10-10 21:00:00</td>\n",
       "      <td>edna</td>\n",
       "      <td>tx</td>\n",
       "      <td>us</td>\n",
       "      <td>circle</td>\n",
       "      <td>20</td>\n",
       "      <td>1/2 hour</td>\n",
       "      <td>My older brother and twin sister were leaving ...</td>\n",
       "      <td>2004-01-17</td>\n",
       "      <td>28.978333</td>\n",
       "      <td>-96.645833</td>\n",
       "    </tr>\n",
       "    <tr>\n",
       "      <th>3</th>\n",
       "      <td>1960-10-10 20:00:00</td>\n",
       "      <td>kaneohe</td>\n",
       "      <td>hi</td>\n",
       "      <td>us</td>\n",
       "      <td>light</td>\n",
       "      <td>900</td>\n",
       "      <td>15 minutes</td>\n",
       "      <td>AS a Marine 1st Lt. flying an FJ4B fighter/att...</td>\n",
       "      <td>2004-01-22</td>\n",
       "      <td>21.418056</td>\n",
       "      <td>-157.803611</td>\n",
       "    </tr>\n",
       "    <tr>\n",
       "      <th>4</th>\n",
       "      <td>1961-10-10 19:00:00</td>\n",
       "      <td>bristol</td>\n",
       "      <td>tn</td>\n",
       "      <td>us</td>\n",
       "      <td>sphere</td>\n",
       "      <td>300</td>\n",
       "      <td>5 minutes</td>\n",
       "      <td>My father is now 89 my brother 52 the girl wit...</td>\n",
       "      <td>2007-04-27</td>\n",
       "      <td>36.595000</td>\n",
       "      <td>-82.188889</td>\n",
       "    </tr>\n",
       "    <tr>\n",
       "      <th>6</th>\n",
       "      <td>1965-10-10 23:45:00</td>\n",
       "      <td>norwalk</td>\n",
       "      <td>ct</td>\n",
       "      <td>us</td>\n",
       "      <td>disk</td>\n",
       "      <td>1200</td>\n",
       "      <td>20 minutes</td>\n",
       "      <td>A bright orange color changing to reddish colo...</td>\n",
       "      <td>1999-10-02</td>\n",
       "      <td>41.117500</td>\n",
       "      <td>-73.408333</td>\n",
       "    </tr>\n",
       "    <tr>\n",
       "      <th>7</th>\n",
       "      <td>1966-10-10 20:00:00</td>\n",
       "      <td>pell city</td>\n",
       "      <td>al</td>\n",
       "      <td>us</td>\n",
       "      <td>disk</td>\n",
       "      <td>180</td>\n",
       "      <td>3  minutes</td>\n",
       "      <td>Strobe Lighted disk shape object observed clos...</td>\n",
       "      <td>2009-03-19</td>\n",
       "      <td>33.586111</td>\n",
       "      <td>-86.286111</td>\n",
       "    </tr>\n",
       "  </tbody>\n",
       "</table>\n",
       "</div>"
      ],
      "text/plain": [
       "           event_date   location state country   shape  size    duration  \\\n",
       "2 1956-10-10 21:00:00       edna    tx      us  circle    20    1/2 hour   \n",
       "3 1960-10-10 20:00:00    kaneohe    hi      us   light   900  15 minutes   \n",
       "4 1961-10-10 19:00:00    bristol    tn      us  sphere   300   5 minutes   \n",
       "6 1965-10-10 23:45:00    norwalk    ct      us    disk  1200  20 minutes   \n",
       "7 1966-10-10 20:00:00  pell city    al      us    disk   180  3  minutes   \n",
       "\n",
       "                                             comment declaration_date  \\\n",
       "2  My older brother and twin sister were leaving ...       2004-01-17   \n",
       "3  AS a Marine 1st Lt. flying an FJ4B fighter/att...       2004-01-22   \n",
       "4  My father is now 89 my brother 52 the girl wit...       2007-04-27   \n",
       "6  A bright orange color changing to reddish colo...       1999-10-02   \n",
       "7  Strobe Lighted disk shape object observed clos...       2009-03-19   \n",
       "\n",
       "    latitude   longitude  \n",
       "2  28.978333  -96.645833  \n",
       "3  21.418056 -157.803611  \n",
       "4  36.595000  -82.188889  \n",
       "6  41.117500  -73.408333  \n",
       "7  33.586111  -86.286111  "
      ]
     },
     "execution_count": 11,
     "metadata": {},
     "output_type": "execute_result"
    }
   ],
   "source": [
    "ufo_df.head()"
   ]
  },
  {
   "cell_type": "code",
   "execution_count": 12,
   "id": "f2c6c35a",
   "metadata": {},
   "outputs": [
    {
     "data": {
      "text/plain": [
       "us    63552\n",
       "ca     2942\n",
       "gb       11\n",
       "au       10\n",
       "Name: country, dtype: int64"
      ]
     },
     "execution_count": 12,
     "metadata": {},
     "output_type": "execute_result"
    }
   ],
   "source": [
    "ufo_df['country'].value_counts()"
   ]
  },
  {
   "cell_type": "markdown",
   "id": "cd8c95a7",
   "metadata": {},
   "source": [
    "## Sauvegarde"
   ]
  },
  {
   "cell_type": "code",
   "execution_count": 14,
   "id": "72b08ac0",
   "metadata": {},
   "outputs": [],
   "source": [
    "ufo_df.to_csv('../data/clean/ufo.csv', index=False)"
   ]
  }
 ],
 "metadata": {
  "kernelspec": {
   "display_name": "Centrale Lyon",
   "language": "python",
   "name": "centrale_lyon"
  },
  "language_info": {
   "codemirror_mode": {
    "name": "ipython",
    "version": 3
   },
   "file_extension": ".py",
   "mimetype": "text/x-python",
   "name": "python",
   "nbconvert_exporter": "python",
   "pygments_lexer": "ipython3",
   "version": "3.9.12"
  }
 },
 "nbformat": 4,
 "nbformat_minor": 5
}
